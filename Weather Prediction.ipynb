{
 "cells": [
  {
   "cell_type": "markdown",
   "id": "a8a01d25",
   "metadata": {},
   "source": [
    "# Weather Prediction Model für Stuttgart"
   ]
  },
  {
   "cell_type": "markdown",
   "id": "1899ac78",
   "metadata": {},
   "source": [
    "## 1. Datensatz zu .csv konvertieren"
   ]
  },
  {
   "cell_type": "markdown",
   "id": "ef2a5ea7",
   "metadata": {},
   "source": [
    "Mit Excel wurde einzelne Tabellenblätter zusammengefasst und ein gesamter Datensatz generiert: \n",
    "\n",
    "-> Tageswerte der Stuttgarter Wetterstation S-Mitte von 2001-2022  \n",
    "-> 7.696 Tage mit Daten wie Temperatur, Niederschlag, Luftdruck etc. (teilweise unvollständig) \n"
   ]
  },
  {
   "cell_type": "markdown",
   "id": "ce5ac3e1",
   "metadata": {},
   "source": [
    "# 2. .csv Datei einlesen und anschauen"
   ]
  },
  {
   "cell_type": "markdown",
   "id": "dc20ac77",
   "metadata": {},
   "source": [
    "Arbeit mit Pandas Bibliothek\n",
    "Probleme: Formatierungen\n",
    "\n",
    "-> Komma zu Punkt, deutsche Excel seperiert mit Semikolon, Header muss manuell hinzugefügt werden \n",
    "\n",
    "-> Reihe *Tage* wurde manuell in Excel hinzugefügt\n",
    "\n",
    "#### Achtung Schaltjahre! Tage wurden weggelassen um immer auf 365 zu kommen"
   ]
  },
  {
   "cell_type": "code",
   "execution_count": 28,
   "id": "9856b622",
   "metadata": {},
   "outputs": [],
   "source": [
    "import pandas as pd\n"
   ]
  },
  {
   "cell_type": "code",
   "execution_count": 2,
   "id": "0237030e",
   "metadata": {},
   "outputs": [],
   "source": [
    "col_names = [\"Datum\",\"Mittel Temp. (°C)\", \"Max Temp. (°C)\", \"Min Temp. (°C)\", \"Mittel Feuchte (%)\",\"Summe Niederschlag (l/m²)\",\"Mittel UVA-Str. (W/m²)\",\"Mittel UVB-Str. (W/m²)\",\"Tage\"]\n",
    "data = pd.read_csv('SZ-Tages-Werte-2000-2021_new.csv', names=col_names, sep=';')\n",
    "data_np=pd.read_csv('SZ-Tages-Werte-2000-2021_new.csv', names=col_names, sep=';')"
   ]
  },
  {
   "cell_type": "code",
   "execution_count": 3,
   "id": "778b13a3",
   "metadata": {},
   "outputs": [
    {
     "data": {
      "text/html": [
       "<div>\n",
       "<style scoped>\n",
       "    .dataframe tbody tr th:only-of-type {\n",
       "        vertical-align: middle;\n",
       "    }\n",
       "\n",
       "    .dataframe tbody tr th {\n",
       "        vertical-align: top;\n",
       "    }\n",
       "\n",
       "    .dataframe thead th {\n",
       "        text-align: right;\n",
       "    }\n",
       "</style>\n",
       "<table border=\"1\" class=\"dataframe\">\n",
       "  <thead>\n",
       "    <tr style=\"text-align: right;\">\n",
       "      <th></th>\n",
       "      <th>Datum</th>\n",
       "      <th>Mittel Temp. (°C)</th>\n",
       "      <th>Max Temp. (°C)</th>\n",
       "      <th>Min Temp. (°C)</th>\n",
       "      <th>Mittel Feuchte (%)</th>\n",
       "      <th>Summe Niederschlag (l/m²)</th>\n",
       "      <th>Mittel UVA-Str. (W/m²)</th>\n",
       "      <th>Mittel UVB-Str. (W/m²)</th>\n",
       "      <th>Tage</th>\n",
       "    </tr>\n",
       "  </thead>\n",
       "  <tbody>\n",
       "    <tr>\n",
       "      <th>0</th>\n",
       "      <td>01.01.2001</td>\n",
       "      <td>2.2</td>\n",
       "      <td>6.0</td>\n",
       "      <td>-2.7</td>\n",
       "      <td>61.6</td>\n",
       "      <td>0.37</td>\n",
       "      <td>2.34</td>\n",
       "      <td>0.026</td>\n",
       "      <td>1</td>\n",
       "    </tr>\n",
       "    <tr>\n",
       "      <th>1</th>\n",
       "      <td>02.01.2001</td>\n",
       "      <td>7.1</td>\n",
       "      <td>8.9</td>\n",
       "      <td>4.2</td>\n",
       "      <td>77.0</td>\n",
       "      <td>1.37</td>\n",
       "      <td>2.03</td>\n",
       "      <td>0.026</td>\n",
       "      <td>2</td>\n",
       "    </tr>\n",
       "    <tr>\n",
       "      <th>2</th>\n",
       "      <td>03.01.2001</td>\n",
       "      <td>6.8</td>\n",
       "      <td>9.3</td>\n",
       "      <td>2.9</td>\n",
       "      <td>72.1</td>\n",
       "      <td>0.02</td>\n",
       "      <td>3.56</td>\n",
       "      <td>0.034</td>\n",
       "      <td>3</td>\n",
       "    </tr>\n",
       "    <tr>\n",
       "      <th>3</th>\n",
       "      <td>04.01.2001</td>\n",
       "      <td>6.2</td>\n",
       "      <td>8.3</td>\n",
       "      <td>3.0</td>\n",
       "      <td>75.7</td>\n",
       "      <td>1.03</td>\n",
       "      <td>2.22</td>\n",
       "      <td>0.026</td>\n",
       "      <td>4</td>\n",
       "    </tr>\n",
       "    <tr>\n",
       "      <th>4</th>\n",
       "      <td>05.01.2001</td>\n",
       "      <td>8.7</td>\n",
       "      <td>11.7</td>\n",
       "      <td>6.3</td>\n",
       "      <td>73.1</td>\n",
       "      <td>4.51</td>\n",
       "      <td>1.83</td>\n",
       "      <td>0.025</td>\n",
       "      <td>5</td>\n",
       "    </tr>\n",
       "  </tbody>\n",
       "</table>\n",
       "</div>"
      ],
      "text/plain": [
       "        Datum  Mittel Temp. (°C)  Max Temp. (°C)  Min Temp. (°C)  \\\n",
       "0  01.01.2001                2.2             6.0            -2.7   \n",
       "1  02.01.2001                7.1             8.9             4.2   \n",
       "2  03.01.2001                6.8             9.3             2.9   \n",
       "3  04.01.2001                6.2             8.3             3.0   \n",
       "4  05.01.2001                8.7            11.7             6.3   \n",
       "\n",
       "   Mittel Feuchte (%)  Summe Niederschlag (l/m²)  Mittel UVA-Str. (W/m²)  \\\n",
       "0                61.6                       0.37                    2.34   \n",
       "1                77.0                       1.37                    2.03   \n",
       "2                72.1                       0.02                    3.56   \n",
       "3                75.7                       1.03                    2.22   \n",
       "4                73.1                       4.51                    1.83   \n",
       "\n",
       "   Mittel UVB-Str. (W/m²)  Tage  \n",
       "0                   0.026     1  \n",
       "1                   0.026     2  \n",
       "2                   0.034     3  \n",
       "3                   0.026     4  \n",
       "4                   0.025     5  "
      ]
     },
     "execution_count": 3,
     "metadata": {},
     "output_type": "execute_result"
    }
   ],
   "source": [
    "data.head()"
   ]
  },
  {
   "cell_type": "code",
   "execution_count": 4,
   "id": "488149e2",
   "metadata": {},
   "outputs": [
    {
     "data": {
      "text/plain": [
       "Index(['Datum', 'Mittel Temp. (°C)', 'Max Temp. (°C)', 'Min Temp. (°C)',\n",
       "       'Mittel Feuchte (%)', 'Summe Niederschlag (l/m²)',\n",
       "       'Mittel UVA-Str. (W/m²)', 'Mittel UVB-Str. (W/m²)', 'Tage'],\n",
       "      dtype='object')"
      ]
     },
     "execution_count": 4,
     "metadata": {},
     "output_type": "execute_result"
    }
   ],
   "source": [
    "data.columns"
   ]
  },
  {
   "cell_type": "markdown",
   "id": "8839f5df",
   "metadata": {},
   "source": [
    "## 2.1 DatumTyp ändern"
   ]
  },
  {
   "cell_type": "code",
   "execution_count": 5,
   "id": "7560e092",
   "metadata": {},
   "outputs": [
    {
     "data": {
      "text/plain": [
       "Datum                         object\n",
       "Mittel Temp. (°C)            float64\n",
       "Max Temp. (°C)               float64\n",
       "Min Temp. (°C)               float64\n",
       "Mittel Feuchte (%)           float64\n",
       "Summe Niederschlag (l/m²)    float64\n",
       "Mittel UVA-Str. (W/m²)       float64\n",
       "Mittel UVB-Str. (W/m²)       float64\n",
       "Tage                           int64\n",
       "dtype: object"
      ]
     },
     "execution_count": 5,
     "metadata": {},
     "output_type": "execute_result"
    }
   ],
   "source": [
    "data.dtypes"
   ]
  },
  {
   "cell_type": "code",
   "execution_count": 6,
   "id": "3ce07223",
   "metadata": {},
   "outputs": [],
   "source": [
    "data['Datum']=pd.to_datetime(data['Datum'],format=\"%d.%m.%Y\")"
   ]
  },
  {
   "cell_type": "code",
   "execution_count": 7,
   "id": "2f2f4d89",
   "metadata": {
    "scrolled": true
   },
   "outputs": [
    {
     "data": {
      "text/html": [
       "<div>\n",
       "<style scoped>\n",
       "    .dataframe tbody tr th:only-of-type {\n",
       "        vertical-align: middle;\n",
       "    }\n",
       "\n",
       "    .dataframe tbody tr th {\n",
       "        vertical-align: top;\n",
       "    }\n",
       "\n",
       "    .dataframe thead th {\n",
       "        text-align: right;\n",
       "    }\n",
       "</style>\n",
       "<table border=\"1\" class=\"dataframe\">\n",
       "  <thead>\n",
       "    <tr style=\"text-align: right;\">\n",
       "      <th></th>\n",
       "      <th>Datum</th>\n",
       "      <th>Mittel Temp. (°C)</th>\n",
       "      <th>Max Temp. (°C)</th>\n",
       "      <th>Min Temp. (°C)</th>\n",
       "      <th>Mittel Feuchte (%)</th>\n",
       "      <th>Summe Niederschlag (l/m²)</th>\n",
       "      <th>Mittel UVA-Str. (W/m²)</th>\n",
       "      <th>Mittel UVB-Str. (W/m²)</th>\n",
       "      <th>Tage</th>\n",
       "    </tr>\n",
       "  </thead>\n",
       "  <tbody>\n",
       "    <tr>\n",
       "      <th>0</th>\n",
       "      <td>2001-01-01</td>\n",
       "      <td>2.2</td>\n",
       "      <td>6.0</td>\n",
       "      <td>-2.7</td>\n",
       "      <td>61.6</td>\n",
       "      <td>0.37</td>\n",
       "      <td>2.34</td>\n",
       "      <td>0.026</td>\n",
       "      <td>1</td>\n",
       "    </tr>\n",
       "    <tr>\n",
       "      <th>1</th>\n",
       "      <td>2001-01-02</td>\n",
       "      <td>7.1</td>\n",
       "      <td>8.9</td>\n",
       "      <td>4.2</td>\n",
       "      <td>77.0</td>\n",
       "      <td>1.37</td>\n",
       "      <td>2.03</td>\n",
       "      <td>0.026</td>\n",
       "      <td>2</td>\n",
       "    </tr>\n",
       "    <tr>\n",
       "      <th>2</th>\n",
       "      <td>2001-01-03</td>\n",
       "      <td>6.8</td>\n",
       "      <td>9.3</td>\n",
       "      <td>2.9</td>\n",
       "      <td>72.1</td>\n",
       "      <td>0.02</td>\n",
       "      <td>3.56</td>\n",
       "      <td>0.034</td>\n",
       "      <td>3</td>\n",
       "    </tr>\n",
       "    <tr>\n",
       "      <th>3</th>\n",
       "      <td>2001-01-04</td>\n",
       "      <td>6.2</td>\n",
       "      <td>8.3</td>\n",
       "      <td>3.0</td>\n",
       "      <td>75.7</td>\n",
       "      <td>1.03</td>\n",
       "      <td>2.22</td>\n",
       "      <td>0.026</td>\n",
       "      <td>4</td>\n",
       "    </tr>\n",
       "    <tr>\n",
       "      <th>4</th>\n",
       "      <td>2001-01-05</td>\n",
       "      <td>8.7</td>\n",
       "      <td>11.7</td>\n",
       "      <td>6.3</td>\n",
       "      <td>73.1</td>\n",
       "      <td>4.51</td>\n",
       "      <td>1.83</td>\n",
       "      <td>0.025</td>\n",
       "      <td>5</td>\n",
       "    </tr>\n",
       "  </tbody>\n",
       "</table>\n",
       "</div>"
      ],
      "text/plain": [
       "       Datum  Mittel Temp. (°C)  Max Temp. (°C)  Min Temp. (°C)  \\\n",
       "0 2001-01-01                2.2             6.0            -2.7   \n",
       "1 2001-01-02                7.1             8.9             4.2   \n",
       "2 2001-01-03                6.8             9.3             2.9   \n",
       "3 2001-01-04                6.2             8.3             3.0   \n",
       "4 2001-01-05                8.7            11.7             6.3   \n",
       "\n",
       "   Mittel Feuchte (%)  Summe Niederschlag (l/m²)  Mittel UVA-Str. (W/m²)  \\\n",
       "0                61.6                       0.37                    2.34   \n",
       "1                77.0                       1.37                    2.03   \n",
       "2                72.1                       0.02                    3.56   \n",
       "3                75.7                       1.03                    2.22   \n",
       "4                73.1                       4.51                    1.83   \n",
       "\n",
       "   Mittel UVB-Str. (W/m²)  Tage  \n",
       "0                   0.026     1  \n",
       "1                   0.026     2  \n",
       "2                   0.034     3  \n",
       "3                   0.026     4  \n",
       "4                   0.025     5  "
      ]
     },
     "execution_count": 7,
     "metadata": {},
     "output_type": "execute_result"
    }
   ],
   "source": [
    "data.head()"
   ]
  },
  {
   "cell_type": "code",
   "execution_count": 8,
   "id": "3a98bc8a",
   "metadata": {
    "scrolled": true
   },
   "outputs": [
    {
     "data": {
      "text/plain": [
       "Datum                        datetime64[ns]\n",
       "Mittel Temp. (°C)                   float64\n",
       "Max Temp. (°C)                      float64\n",
       "Min Temp. (°C)                      float64\n",
       "Mittel Feuchte (%)                  float64\n",
       "Summe Niederschlag (l/m²)           float64\n",
       "Mittel UVA-Str. (W/m²)              float64\n",
       "Mittel UVB-Str. (W/m²)              float64\n",
       "Tage                                  int64\n",
       "dtype: object"
      ]
     },
     "execution_count": 8,
     "metadata": {},
     "output_type": "execute_result"
    }
   ],
   "source": [
    "data.dtypes"
   ]
  },
  {
   "cell_type": "markdown",
   "id": "66e204c9",
   "metadata": {},
   "source": [
    "## 2.2 Wetter Daten graphisch anschauen"
   ]
  },
  {
   "cell_type": "code",
   "execution_count": 29,
   "id": "23e78a09",
   "metadata": {},
   "outputs": [],
   "source": [
    "from matplotlib import pyplot as plt"
   ]
  },
  {
   "cell_type": "markdown",
   "id": "ee3a14b1",
   "metadata": {},
   "source": [
    "#### Datum in Relation zur Temperatur"
   ]
  },
  {
   "cell_type": "code",
   "execution_count": 10,
   "id": "1b485199",
   "metadata": {},
   "outputs": [
    {
     "data": {
      "text/plain": [
       "<function matplotlib.pyplot.show(close=None, block=None)>"
      ]
     },
     "execution_count": 10,
     "metadata": {},
     "output_type": "execute_result"
    },
    {
     "data": {
      "image/png": "[encoded data removed]",
      "text/plain": [
       "<Figure size 432x288 with 1 Axes>"
      ]
     },
     "metadata": {
      "needs_background": "light"
     },
     "output_type": "display_data"
    }
   ],
   "source": [
    "plt.plot(data['Datum'],data['Mittel Temp. (°C)'])\n",
    "plt.show"
   ]
  },
  {
   "cell_type": "markdown",
   "id": "96c3a628",
   "metadata": {},
   "source": [
    "#### Datum in Relation zum Niederschlag (Unwetter Juni 2021)"
   ]
  },
  {
   "cell_type": "code",
   "execution_count": 11,
   "id": "3f2892b1",
   "metadata": {},
   "outputs": [
    {
     "data": {
      "text/plain": [
       "<function matplotlib.pyplot.show(close=None, block=None)>"
      ]
     },
     "execution_count": 11,
     "metadata": {},
     "output_type": "execute_result"
    },
    {
     "data": {
      "image/png": "[encoded data removed]",
      "text/plain": [
       "<Figure size 432x288 with 1 Axes>"
      ]
     },
     "metadata": {
      "needs_background": "light"
     },
     "output_type": "display_data"
    }
   ],
   "source": [
    "plt.plot(data['Datum'],data['Summe Niederschlag (l/m²)'])\n",
    "plt.show"
   ]
  },
  {
   "cell_type": "code",
   "execution_count": 12,
   "id": "f43dc274",
   "metadata": {},
   "outputs": [
    {
     "name": "stdout",
     "output_type": "stream",
     "text": [
      "          Datum  Mittel Temp. (°C)  Max Temp. (°C)  Min Temp. (°C)  \\\n",
      "7479 2021-06-29               19.2            26.0            13.4   \n",
      "\n",
      "      Mittel Feuchte (%)  Summe Niederschlag (l/m²)  Mittel UVA-Str. (W/m²)  \\\n",
      "7479                77.9                       34.5                    8.96   \n",
      "\n",
      "      Mittel UVB-Str. (W/m²)  Tage  \n",
      "7479                   0.212   180  \n"
     ]
    }
   ],
   "source": [
    "print(data[data[\"Datum\"] == '2021-06-29'])"
   ]
  },
  {
   "cell_type": "markdown",
   "id": "f83db8df",
   "metadata": {},
   "source": [
    "#### -> Niederschlag schwierig, da keine Saisonalität vorhanden, zufällige Stürme etc."
   ]
  },
  {
   "cell_type": "markdown",
   "id": "4facf56b",
   "metadata": {},
   "source": [
    "# 3. Temperatur Model trainieren"
   ]
  },
  {
   "cell_type": "markdown",
   "id": "3acab5eb",
   "metadata": {},
   "source": [
    "Hier wird mit den einzelnen Tagen im Jahr gearbeitet"
   ]
  },
  {
   "cell_type": "code",
   "execution_count": 3,
   "id": "8de6031f",
   "metadata": {},
   "outputs": [],
   "source": [
    "temp = data_np[['Tage','Mittel Temp. (°C)']]"
   ]
  },
  {
   "cell_type": "markdown",
   "id": "106a9088",
   "metadata": {},
   "source": [
    "## 3.1 Vorbereiten der Daten"
   ]
  },
  {
   "cell_type": "code",
   "execution_count": 4,
   "id": "e7afe6e4",
   "metadata": {},
   "outputs": [
    {
     "data": {
      "text/html": [
       "<div>\n",
       "<style scoped>\n",
       "    .dataframe tbody tr th:only-of-type {\n",
       "        vertical-align: middle;\n",
       "    }\n",
       "\n",
       "    .dataframe tbody tr th {\n",
       "        vertical-align: top;\n",
       "    }\n",
       "\n",
       "    .dataframe thead th {\n",
       "        text-align: right;\n",
       "    }\n",
       "</style>\n",
       "<table border=\"1\" class=\"dataframe\">\n",
       "  <thead>\n",
       "    <tr style=\"text-align: right;\">\n",
       "      <th></th>\n",
       "      <th>Tage</th>\n",
       "      <th>Mittel Temp. (°C)</th>\n",
       "    </tr>\n",
       "  </thead>\n",
       "  <tbody>\n",
       "    <tr>\n",
       "      <th>0</th>\n",
       "      <td>1</td>\n",
       "      <td>2.2</td>\n",
       "    </tr>\n",
       "    <tr>\n",
       "      <th>1</th>\n",
       "      <td>2</td>\n",
       "      <td>7.1</td>\n",
       "    </tr>\n",
       "    <tr>\n",
       "      <th>2</th>\n",
       "      <td>3</td>\n",
       "      <td>6.8</td>\n",
       "    </tr>\n",
       "    <tr>\n",
       "      <th>3</th>\n",
       "      <td>4</td>\n",
       "      <td>6.2</td>\n",
       "    </tr>\n",
       "    <tr>\n",
       "      <th>4</th>\n",
       "      <td>5</td>\n",
       "      <td>8.7</td>\n",
       "    </tr>\n",
       "    <tr>\n",
       "      <th>...</th>\n",
       "      <td>...</td>\n",
       "      <td>...</td>\n",
       "    </tr>\n",
       "    <tr>\n",
       "      <th>7691</th>\n",
       "      <td>27</td>\n",
       "      <td>2.0</td>\n",
       "    </tr>\n",
       "    <tr>\n",
       "      <th>7692</th>\n",
       "      <td>28</td>\n",
       "      <td>4.8</td>\n",
       "    </tr>\n",
       "    <tr>\n",
       "      <th>7693</th>\n",
       "      <td>29</td>\n",
       "      <td>5.3</td>\n",
       "    </tr>\n",
       "    <tr>\n",
       "      <th>7694</th>\n",
       "      <td>30</td>\n",
       "      <td>6.0</td>\n",
       "    </tr>\n",
       "    <tr>\n",
       "      <th>7695</th>\n",
       "      <td>31</td>\n",
       "      <td>4.2</td>\n",
       "    </tr>\n",
       "  </tbody>\n",
       "</table>\n",
       "<p>7696 rows × 2 columns</p>\n",
       "</div>"
      ],
      "text/plain": [
       "      Tage  Mittel Temp. (°C)\n",
       "0        1                2.2\n",
       "1        2                7.1\n",
       "2        3                6.8\n",
       "3        4                6.2\n",
       "4        5                8.7\n",
       "...    ...                ...\n",
       "7691    27                2.0\n",
       "7692    28                4.8\n",
       "7693    29                5.3\n",
       "7694    30                6.0\n",
       "7695    31                4.2\n",
       "\n",
       "[7696 rows x 2 columns]"
      ]
     },
     "execution_count": 4,
     "metadata": {},
     "output_type": "execute_result"
    }
   ],
   "source": [
    "temp"
   ]
  },
  {
   "cell_type": "markdown",
   "id": "8af776ad",
   "metadata": {},
   "source": [
    "Überprüfen ob es fehlende Daten gibt"
   ]
  },
  {
   "cell_type": "code",
   "execution_count": 5,
   "id": "b22ac708",
   "metadata": {},
   "outputs": [
    {
     "data": {
      "text/plain": [
       "124"
      ]
     },
     "execution_count": 5,
     "metadata": {},
     "output_type": "execute_result"
    }
   ],
   "source": [
    "temp.isna().sum().sum()"
   ]
  },
  {
   "cell_type": "markdown",
   "id": "086bd01d",
   "metadata": {},
   "source": [
    " -> Es gibt 124 leere Felder "
   ]
  },
  {
   "cell_type": "code",
   "execution_count": 6,
   "id": "82ef8c3f",
   "metadata": {},
   "outputs": [
    {
     "data": {
      "text/html": [
       "<div>\n",
       "<style scoped>\n",
       "    .dataframe tbody tr th:only-of-type {\n",
       "        vertical-align: middle;\n",
       "    }\n",
       "\n",
       "    .dataframe tbody tr th {\n",
       "        vertical-align: top;\n",
       "    }\n",
       "\n",
       "    .dataframe thead th {\n",
       "        text-align: right;\n",
       "    }\n",
       "</style>\n",
       "<table border=\"1\" class=\"dataframe\">\n",
       "  <thead>\n",
       "    <tr style=\"text-align: right;\">\n",
       "      <th></th>\n",
       "      <th>Tage</th>\n",
       "      <th>Mittel Temp. (°C)</th>\n",
       "    </tr>\n",
       "  </thead>\n",
       "  <tbody>\n",
       "    <tr>\n",
       "      <th>0</th>\n",
       "      <td>1</td>\n",
       "      <td>2.2</td>\n",
       "    </tr>\n",
       "    <tr>\n",
       "      <th>1</th>\n",
       "      <td>2</td>\n",
       "      <td>7.1</td>\n",
       "    </tr>\n",
       "    <tr>\n",
       "      <th>2</th>\n",
       "      <td>3</td>\n",
       "      <td>6.8</td>\n",
       "    </tr>\n",
       "    <tr>\n",
       "      <th>3</th>\n",
       "      <td>4</td>\n",
       "      <td>6.2</td>\n",
       "    </tr>\n",
       "    <tr>\n",
       "      <th>4</th>\n",
       "      <td>5</td>\n",
       "      <td>8.7</td>\n",
       "    </tr>\n",
       "    <tr>\n",
       "      <th>...</th>\n",
       "      <td>...</td>\n",
       "      <td>...</td>\n",
       "    </tr>\n",
       "    <tr>\n",
       "      <th>7691</th>\n",
       "      <td>27</td>\n",
       "      <td>2.0</td>\n",
       "    </tr>\n",
       "    <tr>\n",
       "      <th>7692</th>\n",
       "      <td>28</td>\n",
       "      <td>4.8</td>\n",
       "    </tr>\n",
       "    <tr>\n",
       "      <th>7693</th>\n",
       "      <td>29</td>\n",
       "      <td>5.3</td>\n",
       "    </tr>\n",
       "    <tr>\n",
       "      <th>7694</th>\n",
       "      <td>30</td>\n",
       "      <td>6.0</td>\n",
       "    </tr>\n",
       "    <tr>\n",
       "      <th>7695</th>\n",
       "      <td>31</td>\n",
       "      <td>4.2</td>\n",
       "    </tr>\n",
       "  </tbody>\n",
       "</table>\n",
       "<p>7572 rows × 2 columns</p>\n",
       "</div>"
      ],
      "text/plain": [
       "      Tage  Mittel Temp. (°C)\n",
       "0        1                2.2\n",
       "1        2                7.1\n",
       "2        3                6.8\n",
       "3        4                6.2\n",
       "4        5                8.7\n",
       "...    ...                ...\n",
       "7691    27                2.0\n",
       "7692    28                4.8\n",
       "7693    29                5.3\n",
       "7694    30                6.0\n",
       "7695    31                4.2\n",
       "\n",
       "[7572 rows x 2 columns]"
      ]
     },
     "execution_count": 6,
     "metadata": {},
     "output_type": "execute_result"
    }
   ],
   "source": [
    "temp = temp.dropna()\n",
    "temp.isna().sum().sum()\n",
    "temp"
   ]
  },
  {
   "cell_type": "markdown",
   "id": "78ebd5d3",
   "metadata": {},
   "source": [
    "Exportieren zu einem Numpy Array"
   ]
  },
  {
   "cell_type": "code",
   "execution_count": 7,
   "id": "91819149",
   "metadata": {},
   "outputs": [],
   "source": [
    "import numpy as np"
   ]
  },
  {
   "cell_type": "code",
   "execution_count": 8,
   "id": "c85182f4",
   "metadata": {},
   "outputs": [
    {
     "data": {
      "text/plain": [
       "array([2.2, 7.1, 6.8, ..., 5.3, 6. , 4.2])"
      ]
     },
     "execution_count": 8,
     "metadata": {},
     "output_type": "execute_result"
    }
   ],
   "source": [
    "np_temp=temp[\"Mittel Temp. (°C)\"].to_numpy()\n",
    "np_temp"
   ]
  },
  {
   "cell_type": "code",
   "execution_count": 9,
   "id": "db2addf8",
   "metadata": {},
   "outputs": [
    {
     "data": {
      "text/plain": [
       "array([ 1,  2,  3, ..., 29, 30, 31], dtype=int64)"
      ]
     },
     "execution_count": 9,
     "metadata": {},
     "output_type": "execute_result"
    }
   ],
   "source": [
    "np_date=temp[\"Tage\"].to_numpy()\n",
    "np_date"
   ]
  },
  {
   "cell_type": "markdown",
   "id": "c790969e",
   "metadata": {},
   "source": [
    "Normalisieren des Datums und shuffeln"
   ]
  },
  {
   "cell_type": "code",
   "execution_count": 10,
   "id": "ce3184d8",
   "metadata": {},
   "outputs": [],
   "source": [
    "from sklearn.utils import shuffle\n",
    "from sklearn.preprocessing import MinMaxScaler"
   ]
  },
  {
   "cell_type": "code",
   "execution_count": 11,
   "id": "a24cb83a",
   "metadata": {},
   "outputs": [],
   "source": [
    "np_date, np_temp = shuffle(np_date, np_temp)"
   ]
  },
  {
   "cell_type": "code",
   "execution_count": 12,
   "id": "972cc8e0",
   "metadata": {},
   "outputs": [
    {
     "data": {
      "text/plain": [
       "array([126, 161,  86, ..., 187, 240,  61], dtype=int64)"
      ]
     },
     "execution_count": 12,
     "metadata": {},
     "output_type": "execute_result"
    }
   ],
   "source": [
    "np_date"
   ]
  },
  {
   "cell_type": "code",
   "execution_count": 23,
   "id": "b07f23c6",
   "metadata": {},
   "outputs": [
    {
     "data": {
      "text/plain": [
       "array([[0.41208791],\n",
       "       [0.90384615],\n",
       "       [0.3489011 ],\n",
       "       ...,\n",
       "       [0.23076923],\n",
       "       [0.1456044 ],\n",
       "       [0.02747253]])"
      ]
     },
     "execution_count": 23,
     "metadata": {},
     "output_type": "execute_result"
    }
   ],
   "source": [
    "scaler = MinMaxScaler(feature_range=(0,1))\n",
    "np_date_scaled=scaler.fit_transform(np_date.reshape(-1,1))\n",
    "np_date_scaled"
   ]
  },
  {
   "cell_type": "code",
   "execution_count": 24,
   "id": "0d4ee7de",
   "metadata": {},
   "outputs": [
    {
     "data": {
      "text/plain": [
       "array([16.9,  4.7, 11.6, ..., 13.3,  3.8,  6.5])"
      ]
     },
     "execution_count": 24,
     "metadata": {},
     "output_type": "execute_result"
    }
   ],
   "source": [
    "np_temp"
   ]
  },
  {
   "cell_type": "code",
   "execution_count": 25,
   "id": "d16abb1b",
   "metadata": {},
   "outputs": [
    {
     "data": {
      "text/plain": [
       "array([[0.41208791],\n",
       "       [0.90384615],\n",
       "       [0.3489011 ],\n",
       "       ...,\n",
       "       [0.23076923],\n",
       "       [0.1456044 ],\n",
       "       [0.02747253]])"
      ]
     },
     "execution_count": 25,
     "metadata": {},
     "output_type": "execute_result"
    }
   ],
   "source": [
    "np_date_scaled"
   ]
  },
  {
   "cell_type": "markdown",
   "id": "4bba885f",
   "metadata": {},
   "source": [
    "Datensatz spliten um Trainings- und Testdaten zu generieren (90% Training, 10% Test)"
   ]
  },
  {
   "cell_type": "code",
   "execution_count": 26,
   "id": "18514cae",
   "metadata": {},
   "outputs": [
    {
     "data": {
      "text/plain": [
       "6815"
      ]
     },
     "execution_count": 26,
     "metadata": {},
     "output_type": "execute_result"
    }
   ],
   "source": [
    "splitter=(np.round(np_temp.size*0.9)).astype(int)\n",
    "splitter"
   ]
  },
  {
   "cell_type": "code",
   "execution_count": 27,
   "id": "0c88e7ed",
   "metadata": {},
   "outputs": [],
   "source": [
    "temp_train=np_temp[:splitter]\n",
    "temp_test=np_temp[splitter:]\n",
    "date_train=np_date_scaled[:splitter]\n",
    "date_test=np_date_scaled[splitter:]"
   ]
  },
  {
   "cell_type": "markdown",
   "id": "8ad4c476",
   "metadata": {},
   "source": [
    "## 3.2 Sequential Model bauen und trainieren\n"
   ]
  },
  {
   "cell_type": "code",
   "execution_count": 13,
   "id": "875a4fb6",
   "metadata": {},
   "outputs": [],
   "source": [
    "import tensorflow as tf\n",
    "from tensorflow import keras\n",
    "from tensorflow.keras.models import Sequential\n",
    "from tensorflow.keras.layers import Activation, Dense\n",
    "from tensorflow.keras.optimizers import Adam\n",
    "from tensorflow.keras.metrics import categorical_crossentropy"
   ]
  },
  {
   "cell_type": "code",
   "execution_count": 14,
   "id": "c64a2b46",
   "metadata": {},
   "outputs": [],
   "source": [
    "temp_model = Sequential([Dense(units=16, activation=\"relu\", input_shape=(1,)), \n",
    "                   Dense(units=32, activation=\"relu\"),\n",
    "                   Dense(units=1)])"
   ]
  },
  {
   "cell_type": "code",
   "execution_count": 15,
   "id": "e44a5ace",
   "metadata": {
    "scrolled": true
   },
   "outputs": [
    {
     "name": "stdout",
     "output_type": "stream",
     "text": [
      "Model: \"sequential\"\n",
      "_________________________________________________________________\n",
      "Layer (type)                 Output Shape              Param #   \n",
      "=================================================================\n",
      "dense (Dense)                (None, 16)                32        \n",
      "_________________________________________________________________\n",
      "dense_1 (Dense)              (None, 32)                544       \n",
      "_________________________________________________________________\n",
      "dense_2 (Dense)              (None, 1)                 33        \n",
      "=================================================================\n",
      "Total params: 609\n",
      "Trainable params: 609\n",
      "Non-trainable params: 0\n",
      "_________________________________________________________________\n"
     ]
    }
   ],
   "source": [
    "temp_model.summary()"
   ]
  },
  {
   "cell_type": "code",
   "execution_count": 16,
   "id": "f515905c",
   "metadata": {},
   "outputs": [],
   "source": [
    "temp_model.compile(optimizer=Adam(learning_rate=0.0001), loss=\"mean_squared_error\", metrics=[keras.metrics.MeanAbsoluteError()])"
   ]
  },
  {
   "cell_type": "code",
   "execution_count": 33,
   "id": "a6fe3f38",
   "metadata": {
    "scrolled": false
   },
   "outputs": [
    {
     "name": "stdout",
     "output_type": "stream",
     "text": [
      "Epoch 1/10\n",
      "237/237 [==============================] - 1s 2ms/step - loss: 13908.7959 - mean_absolute_error: 102.4677\n",
      "Epoch 2/10\n",
      "237/237 [==============================] - 1s 2ms/step - loss: 3213.5703 - mean_absolute_error: 49.7623\n",
      "Epoch 3/10\n",
      "237/237 [==============================] - 1s 3ms/step - loss: 609.3344 - mean_absolute_error: 21.6949\n",
      "Epoch 4/10\n",
      "237/237 [==============================] - 1s 3ms/step - loss: 132.4293 - mean_absolute_error: 9.6515\n",
      "Epoch 5/10\n",
      "237/237 [==============================] - 1s 2ms/step - loss: 80.6782 - mean_absolute_error: 7.6246\n",
      "Epoch 6/10\n",
      "237/237 [==============================] - 1s 2ms/step - loss: 77.6245 - mean_absolute_error: 7.4301\n",
      "Epoch 7/10\n",
      "237/237 [==============================] - 1s 2ms/step - loss: 77.5413 - mean_absolute_error: 7.4077\n",
      "Epoch 8/10\n",
      "237/237 [==============================] - 1s 2ms/step - loss: 77.5058 - mean_absolute_error: 7.4042\n",
      "Epoch 9/10\n",
      "237/237 [==============================] - 1s 2ms/step - loss: 77.4597 - mean_absolute_error: 7.4018\n",
      "Epoch 10/10\n",
      "237/237 [==============================] - 1s 2ms/step - loss: 77.3826 - mean_absolute_error: 7.3998\n"
     ]
    },
    {
     "data": {
      "text/plain": [
       "<keras.callbacks.History at 0x1bc0bd41d30>"
      ]
     },
     "execution_count": 33,
     "metadata": {},
     "output_type": "execute_result"
    }
   ],
   "source": [
    "temp_model.fit(x=np_date, y=np_temp, epochs=10)"
   ]
  },
  {
   "cell_type": "markdown",
   "id": "c68c10b4",
   "metadata": {},
   "source": [
    "## 3.3 Validierungsdatensatz testen und Werte einfügen"
   ]
  },
  {
   "cell_type": "markdown",
   "id": "700fe757",
   "metadata": {},
   "source": [
    "Erste Probe Validierungssätze"
   ]
  },
  {
   "cell_type": "code",
   "execution_count": 21,
   "id": "6c6bd298",
   "metadata": {
    "scrolled": true
   },
   "outputs": [
    {
     "name": "stdout",
     "output_type": "stream",
     "text": [
      "Epoch 1/50\n",
      "213/213 [==============================] - 1s 3ms/step - loss: 19.1424 - mean_absolute_error: 3.4982 - val_loss: 17.0092 - val_mean_absolute_error: 3.2565\n",
      "Epoch 2/50\n",
      "213/213 [==============================] - 1s 4ms/step - loss: 19.0440 - mean_absolute_error: 3.4969 - val_loss: 16.5554 - val_mean_absolute_error: 3.2008\n",
      "Epoch 3/50\n",
      "213/213 [==============================] - 1s 4ms/step - loss: 18.7573 - mean_absolute_error: 3.4667 - val_loss: 16.6681 - val_mean_absolute_error: 3.2365\n",
      "Epoch 4/50\n",
      "213/213 [==============================] - 1s 4ms/step - loss: 18.6520 - mean_absolute_error: 3.4532 - val_loss: 16.9040 - val_mean_absolute_error: 3.2388\n",
      "Epoch 5/50\n",
      "213/213 [==============================] - 1s 4ms/step - loss: 18.7521 - mean_absolute_error: 3.4696 - val_loss: 17.1345 - val_mean_absolute_error: 3.2636\n",
      "Epoch 6/50\n",
      "213/213 [==============================] - 1s 4ms/step - loss: 18.4370 - mean_absolute_error: 3.4393 - val_loss: 17.3859 - val_mean_absolute_error: 3.2812\n",
      "Epoch 7/50\n",
      "213/213 [==============================] - 1s 4ms/step - loss: 18.4226 - mean_absolute_error: 3.4344 - val_loss: 16.0598 - val_mean_absolute_error: 3.1497\n",
      "Epoch 8/50\n",
      "213/213 [==============================] - 1s 4ms/step - loss: 18.1983 - mean_absolute_error: 3.4150 - val_loss: 16.0190 - val_mean_absolute_error: 3.1445\n",
      "Epoch 9/50\n",
      "213/213 [==============================] - 1s 3ms/step - loss: 18.3193 - mean_absolute_error: 3.4343 - val_loss: 16.0558 - val_mean_absolute_error: 3.1711\n",
      "Epoch 10/50\n",
      "213/213 [==============================] - 1s 3ms/step - loss: 18.1374 - mean_absolute_error: 3.4123 - val_loss: 15.8447 - val_mean_absolute_error: 3.1273\n",
      "Epoch 11/50\n",
      "213/213 [==============================] - 1s 3ms/step - loss: 18.0934 - mean_absolute_error: 3.4102 - val_loss: 15.8700 - val_mean_absolute_error: 3.1268\n",
      "Epoch 12/50\n",
      "213/213 [==============================] - 1s 3ms/step - loss: 18.0096 - mean_absolute_error: 3.3959 - val_loss: 15.7604 - val_mean_absolute_error: 3.1313\n",
      "Epoch 13/50\n",
      "213/213 [==============================] - 1s 4ms/step - loss: 17.9249 - mean_absolute_error: 3.3889 - val_loss: 15.8966 - val_mean_absolute_error: 3.1413\n",
      "Epoch 14/50\n",
      "213/213 [==============================] - 1s 4ms/step - loss: 18.0187 - mean_absolute_error: 3.3942 - val_loss: 15.9572 - val_mean_absolute_error: 3.1437\n",
      "Epoch 15/50\n",
      "213/213 [==============================] - 1s 4ms/step - loss: 17.6540 - mean_absolute_error: 3.3604 - val_loss: 16.1919 - val_mean_absolute_error: 3.1682\n",
      "Epoch 16/50\n",
      "213/213 [==============================] - 1s 3ms/step - loss: 17.6759 - mean_absolute_error: 3.3692 - val_loss: 15.4212 - val_mean_absolute_error: 3.0877\n",
      "Epoch 17/50\n",
      "213/213 [==============================] - 1s 3ms/step - loss: 17.6159 - mean_absolute_error: 3.3647 - val_loss: 15.6714 - val_mean_absolute_error: 3.1142\n",
      "Epoch 18/50\n",
      "213/213 [==============================] - 1s 3ms/step - loss: 17.6651 - mean_absolute_error: 3.3690 - val_loss: 15.3885 - val_mean_absolute_error: 3.0775\n",
      "Epoch 19/50\n",
      "213/213 [==============================] - 1s 3ms/step - loss: 17.5492 - mean_absolute_error: 3.3536 - val_loss: 17.6501 - val_mean_absolute_error: 3.3266\n",
      "Epoch 20/50\n",
      "213/213 [==============================] - 1s 4ms/step - loss: 17.3868 - mean_absolute_error: 3.3362 - val_loss: 15.9136 - val_mean_absolute_error: 3.1342\n",
      "Epoch 21/50\n",
      "213/213 [==============================] - 1s 4ms/step - loss: 17.4117 - mean_absolute_error: 3.3452 - val_loss: 15.1667 - val_mean_absolute_error: 3.0599\n",
      "Epoch 22/50\n",
      "213/213 [==============================] - 1s 4ms/step - loss: 17.3772 - mean_absolute_error: 3.3356 - val_loss: 15.1165 - val_mean_absolute_error: 3.0619\n",
      "Epoch 23/50\n",
      "213/213 [==============================] - 1s 3ms/step - loss: 17.3064 - mean_absolute_error: 3.3364 - val_loss: 15.1001 - val_mean_absolute_error: 3.0686\n",
      "Epoch 24/50\n",
      "213/213 [==============================] - 1s 3ms/step - loss: 17.2152 - mean_absolute_error: 3.3217 - val_loss: 15.0800 - val_mean_absolute_error: 3.0489\n",
      "Epoch 25/50\n",
      "213/213 [==============================] - 1s 3ms/step - loss: 17.1528 - mean_absolute_error: 3.3189 - val_loss: 14.9336 - val_mean_absolute_error: 3.0423\n",
      "Epoch 26/50\n",
      "213/213 [==============================] - 1s 4ms/step - loss: 17.0295 - mean_absolute_error: 3.3095 - val_loss: 14.9438 - val_mean_absolute_error: 3.0409\n",
      "Epoch 27/50\n",
      "213/213 [==============================] - 1s 4ms/step - loss: 16.9702 - mean_absolute_error: 3.3027 - val_loss: 15.0823 - val_mean_absolute_error: 3.0790\n",
      "Epoch 28/50\n",
      "213/213 [==============================] - 1s 4ms/step - loss: 17.0462 - mean_absolute_error: 3.3141 - val_loss: 15.4544 - val_mean_absolute_error: 3.0864\n",
      "Epoch 29/50\n",
      "213/213 [==============================] - 1s 4ms/step - loss: 16.8641 - mean_absolute_error: 3.2951 - val_loss: 14.7689 - val_mean_absolute_error: 3.0162\n",
      "Epoch 30/50\n",
      "213/213 [==============================] - 1s 3ms/step - loss: 16.8213 - mean_absolute_error: 3.2871 - val_loss: 14.8606 - val_mean_absolute_error: 3.0382\n",
      "Epoch 31/50\n",
      "213/213 [==============================] - 1s 3ms/step - loss: 16.7953 - mean_absolute_error: 3.2875 - val_loss: 14.8769 - val_mean_absolute_error: 3.0581\n",
      "Epoch 32/50\n",
      "213/213 [==============================] - 1s 4ms/step - loss: 16.7216 - mean_absolute_error: 3.2745 - val_loss: 14.5954 - val_mean_absolute_error: 2.9990\n",
      "Epoch 33/50\n",
      "213/213 [==============================] - 1s 4ms/step - loss: 16.7503 - mean_absolute_error: 3.2830 - val_loss: 14.5124 - val_mean_absolute_error: 2.9969\n",
      "Epoch 34/50\n",
      "213/213 [==============================] - 1s 3ms/step - loss: 16.7015 - mean_absolute_error: 3.2742 - val_loss: 14.5964 - val_mean_absolute_error: 3.0190\n",
      "Epoch 35/50\n",
      "213/213 [==============================] - 1s 3ms/step - loss: 16.6710 - mean_absolute_error: 3.2693 - val_loss: 14.8957 - val_mean_absolute_error: 3.0389\n",
      "Epoch 36/50\n",
      "213/213 [==============================] - 1s 3ms/step - loss: 16.4958 - mean_absolute_error: 3.2555 - val_loss: 14.6909 - val_mean_absolute_error: 3.0208\n",
      "Epoch 37/50\n",
      "213/213 [==============================] - 1s 3ms/step - loss: 16.6777 - mean_absolute_error: 3.2701 - val_loss: 14.8143 - val_mean_absolute_error: 3.0283\n",
      "Epoch 38/50\n",
      "213/213 [==============================] - 1s 3ms/step - loss: 16.6419 - mean_absolute_error: 3.2665 - val_loss: 14.9694 - val_mean_absolute_error: 3.0407\n",
      "Epoch 39/50\n",
      "213/213 [==============================] - 1s 3ms/step - loss: 16.4876 - mean_absolute_error: 3.2589 - val_loss: 14.6334 - val_mean_absolute_error: 3.0302\n",
      "Epoch 40/50\n",
      "213/213 [==============================] - 1s 4ms/step - loss: 16.4598 - mean_absolute_error: 3.2471 - val_loss: 14.2233 - val_mean_absolute_error: 2.9644\n",
      "Epoch 41/50\n",
      "213/213 [==============================] - 1s 3ms/step - loss: 16.2840 - mean_absolute_error: 3.2367 - val_loss: 14.2092 - val_mean_absolute_error: 2.9624\n",
      "Epoch 42/50\n",
      "213/213 [==============================] - 1s 3ms/step - loss: 16.1838 - mean_absolute_error: 3.2293 - val_loss: 14.1653 - val_mean_absolute_error: 2.9593\n",
      "Epoch 43/50\n",
      "213/213 [==============================] - 1s 3ms/step - loss: 16.3110 - mean_absolute_error: 3.2402 - val_loss: 14.5135 - val_mean_absolute_error: 2.9984\n",
      "Epoch 44/50\n",
      "213/213 [==============================] - 1s 3ms/step - loss: 16.1984 - mean_absolute_error: 3.2311 - val_loss: 14.3449 - val_mean_absolute_error: 3.0075\n",
      "Epoch 45/50\n",
      "213/213 [==============================] - 1s 3ms/step - loss: 16.1811 - mean_absolute_error: 3.2266 - val_loss: 14.0878 - val_mean_absolute_error: 2.9602\n",
      "Epoch 46/50\n",
      "213/213 [==============================] - 1s 3ms/step - loss: 16.0906 - mean_absolute_error: 3.2176 - val_loss: 14.2361 - val_mean_absolute_error: 2.9814\n",
      "Epoch 47/50\n",
      "213/213 [==============================] - 1s 4ms/step - loss: 16.0857 - mean_absolute_error: 3.2167 - val_loss: 13.9952 - val_mean_absolute_error: 2.9395\n",
      "Epoch 48/50\n",
      "213/213 [==============================] - 1s 3ms/step - loss: 16.0789 - mean_absolute_error: 3.2187 - val_loss: 13.9871 - val_mean_absolute_error: 2.9455\n",
      "Epoch 49/50\n",
      "213/213 [==============================] - 1s 3ms/step - loss: 16.0820 - mean_absolute_error: 3.2197 - val_loss: 14.2753 - val_mean_absolute_error: 2.9676\n",
      "Epoch 50/50\n"
     ]
    },
    {
     "name": "stdout",
     "output_type": "stream",
     "text": [
      "213/213 [==============================] - 1s 3ms/step - loss: 16.0389 - mean_absolute_error: 3.2118 - val_loss: 13.9304 - val_mean_absolute_error: 2.9325\n"
     ]
    },
    {
     "data": {
      "text/plain": [
       "<keras.callbacks.History at 0x218c4e54cd0>"
      ]
     },
     "execution_count": 21,
     "metadata": {},
     "output_type": "execute_result"
    }
   ],
   "source": [
    "temp_model.fit(x=np_date, y=np_temp, validation_split=0.1, epochs=50)"
   ]
  },
  {
   "cell_type": "markdown",
   "id": "71f3adfc",
   "metadata": {},
   "source": [
    "Test Predictions für die Mitte des Jahres:"
   ]
  },
  {
   "cell_type": "code",
   "execution_count": 24,
   "id": "e86826c1",
   "metadata": {},
   "outputs": [
    {
     "data": {
      "text/plain": [
       "array([[21.097153]], dtype=float32)"
      ]
     },
     "execution_count": 24,
     "metadata": {},
     "output_type": "execute_result"
    }
   ],
   "source": [
    "temp_model.predict(np.array([182]))"
   ]
  },
  {
   "cell_type": "markdown",
   "id": "8db3f7a5",
   "metadata": {},
   "source": [
    "#### -> Validation und Training Absolute Error ca. 3, kein Overfitting\n",
    "\n",
    "im Modell wurden mit den nicht MinMax gescalten Werten gearbeitet, da kein großer Unterschied festgestellt werden konnte und in JavaScript besser das aktuelle Datum zum Tag konvertiert werden kann"
   ]
  },
  {
   "cell_type": "markdown",
   "id": "1f737e51",
   "metadata": {},
   "source": [
    "# 4. Niederschlag Modell trainieren"
   ]
  },
  {
   "cell_type": "code",
   "execution_count": 39,
   "id": "b68ce3e1",
   "metadata": {},
   "outputs": [],
   "source": [
    "rain = data_np[['Tage','Summe Niederschlag (l/m²)']]"
   ]
  },
  {
   "cell_type": "markdown",
   "id": "fc8bceea",
   "metadata": {},
   "source": [
    "## 3.1 Vorbereiten der Daten"
   ]
  },
  {
   "cell_type": "code",
   "execution_count": 40,
   "id": "dd1bd29d",
   "metadata": {},
   "outputs": [
    {
     "data": {
      "text/html": [
       "<div>\n",
       "<style scoped>\n",
       "    .dataframe tbody tr th:only-of-type {\n",
       "        vertical-align: middle;\n",
       "    }\n",
       "\n",
       "    .dataframe tbody tr th {\n",
       "        vertical-align: top;\n",
       "    }\n",
       "\n",
       "    .dataframe thead th {\n",
       "        text-align: right;\n",
       "    }\n",
       "</style>\n",
       "<table border=\"1\" class=\"dataframe\">\n",
       "  <thead>\n",
       "    <tr style=\"text-align: right;\">\n",
       "      <th></th>\n",
       "      <th>Tage</th>\n",
       "      <th>Summe Niederschlag (l/m²)</th>\n",
       "    </tr>\n",
       "  </thead>\n",
       "  <tbody>\n",
       "    <tr>\n",
       "      <th>0</th>\n",
       "      <td>1</td>\n",
       "      <td>0.37</td>\n",
       "    </tr>\n",
       "    <tr>\n",
       "      <th>1</th>\n",
       "      <td>2</td>\n",
       "      <td>1.37</td>\n",
       "    </tr>\n",
       "    <tr>\n",
       "      <th>2</th>\n",
       "      <td>3</td>\n",
       "      <td>0.02</td>\n",
       "    </tr>\n",
       "    <tr>\n",
       "      <th>3</th>\n",
       "      <td>4</td>\n",
       "      <td>1.03</td>\n",
       "    </tr>\n",
       "    <tr>\n",
       "      <th>4</th>\n",
       "      <td>5</td>\n",
       "      <td>4.51</td>\n",
       "    </tr>\n",
       "    <tr>\n",
       "      <th>...</th>\n",
       "      <td>...</td>\n",
       "      <td>...</td>\n",
       "    </tr>\n",
       "    <tr>\n",
       "      <th>7691</th>\n",
       "      <td>27</td>\n",
       "      <td>1.90</td>\n",
       "    </tr>\n",
       "    <tr>\n",
       "      <th>7692</th>\n",
       "      <td>28</td>\n",
       "      <td>0.00</td>\n",
       "    </tr>\n",
       "    <tr>\n",
       "      <th>7693</th>\n",
       "      <td>29</td>\n",
       "      <td>0.20</td>\n",
       "    </tr>\n",
       "    <tr>\n",
       "      <th>7694</th>\n",
       "      <td>30</td>\n",
       "      <td>0.20</td>\n",
       "    </tr>\n",
       "    <tr>\n",
       "      <th>7695</th>\n",
       "      <td>31</td>\n",
       "      <td>1.60</td>\n",
       "    </tr>\n",
       "  </tbody>\n",
       "</table>\n",
       "<p>7696 rows × 2 columns</p>\n",
       "</div>"
      ],
      "text/plain": [
       "      Tage  Summe Niederschlag (l/m²)\n",
       "0        1                       0.37\n",
       "1        2                       1.37\n",
       "2        3                       0.02\n",
       "3        4                       1.03\n",
       "4        5                       4.51\n",
       "...    ...                        ...\n",
       "7691    27                       1.90\n",
       "7692    28                       0.00\n",
       "7693    29                       0.20\n",
       "7694    30                       0.20\n",
       "7695    31                       1.60\n",
       "\n",
       "[7696 rows x 2 columns]"
      ]
     },
     "execution_count": 40,
     "metadata": {},
     "output_type": "execute_result"
    }
   ],
   "source": [
    "rain"
   ]
  },
  {
   "cell_type": "markdown",
   "id": "0edd34e6",
   "metadata": {},
   "source": [
    "Überprüfen ob es fehlende Daten gibt"
   ]
  },
  {
   "cell_type": "code",
   "execution_count": 41,
   "id": "0db2e9f4",
   "metadata": {},
   "outputs": [
    {
     "data": {
      "text/plain": [
       "122"
      ]
     },
     "execution_count": 41,
     "metadata": {},
     "output_type": "execute_result"
    }
   ],
   "source": [
    "rain.isna().sum().sum()"
   ]
  },
  {
   "cell_type": "markdown",
   "id": "9e6f88ea",
   "metadata": {},
   "source": [
    "-> Es gibt 122 leere Felder"
   ]
  },
  {
   "cell_type": "code",
   "execution_count": 42,
   "id": "9b9eca07",
   "metadata": {},
   "outputs": [
    {
     "data": {
      "text/html": [
       "<div>\n",
       "<style scoped>\n",
       "    .dataframe tbody tr th:only-of-type {\n",
       "        vertical-align: middle;\n",
       "    }\n",
       "\n",
       "    .dataframe tbody tr th {\n",
       "        vertical-align: top;\n",
       "    }\n",
       "\n",
       "    .dataframe thead th {\n",
       "        text-align: right;\n",
       "    }\n",
       "</style>\n",
       "<table border=\"1\" class=\"dataframe\">\n",
       "  <thead>\n",
       "    <tr style=\"text-align: right;\">\n",
       "      <th></th>\n",
       "      <th>Tage</th>\n",
       "      <th>Summe Niederschlag (l/m²)</th>\n",
       "    </tr>\n",
       "  </thead>\n",
       "  <tbody>\n",
       "    <tr>\n",
       "      <th>0</th>\n",
       "      <td>1</td>\n",
       "      <td>0.37</td>\n",
       "    </tr>\n",
       "    <tr>\n",
       "      <th>1</th>\n",
       "      <td>2</td>\n",
       "      <td>1.37</td>\n",
       "    </tr>\n",
       "    <tr>\n",
       "      <th>2</th>\n",
       "      <td>3</td>\n",
       "      <td>0.02</td>\n",
       "    </tr>\n",
       "    <tr>\n",
       "      <th>3</th>\n",
       "      <td>4</td>\n",
       "      <td>1.03</td>\n",
       "    </tr>\n",
       "    <tr>\n",
       "      <th>4</th>\n",
       "      <td>5</td>\n",
       "      <td>4.51</td>\n",
       "    </tr>\n",
       "    <tr>\n",
       "      <th>...</th>\n",
       "      <td>...</td>\n",
       "      <td>...</td>\n",
       "    </tr>\n",
       "    <tr>\n",
       "      <th>7691</th>\n",
       "      <td>27</td>\n",
       "      <td>1.90</td>\n",
       "    </tr>\n",
       "    <tr>\n",
       "      <th>7692</th>\n",
       "      <td>28</td>\n",
       "      <td>0.00</td>\n",
       "    </tr>\n",
       "    <tr>\n",
       "      <th>7693</th>\n",
       "      <td>29</td>\n",
       "      <td>0.20</td>\n",
       "    </tr>\n",
       "    <tr>\n",
       "      <th>7694</th>\n",
       "      <td>30</td>\n",
       "      <td>0.20</td>\n",
       "    </tr>\n",
       "    <tr>\n",
       "      <th>7695</th>\n",
       "      <td>31</td>\n",
       "      <td>1.60</td>\n",
       "    </tr>\n",
       "  </tbody>\n",
       "</table>\n",
       "<p>7574 rows × 2 columns</p>\n",
       "</div>"
      ],
      "text/plain": [
       "      Tage  Summe Niederschlag (l/m²)\n",
       "0        1                       0.37\n",
       "1        2                       1.37\n",
       "2        3                       0.02\n",
       "3        4                       1.03\n",
       "4        5                       4.51\n",
       "...    ...                        ...\n",
       "7691    27                       1.90\n",
       "7692    28                       0.00\n",
       "7693    29                       0.20\n",
       "7694    30                       0.20\n",
       "7695    31                       1.60\n",
       "\n",
       "[7574 rows x 2 columns]"
      ]
     },
     "execution_count": 42,
     "metadata": {},
     "output_type": "execute_result"
    }
   ],
   "source": [
    "rain = rain.dropna()\n",
    "rain.isna().sum().sum()\n",
    "rain"
   ]
  },
  {
   "cell_type": "markdown",
   "id": "818913cf",
   "metadata": {},
   "source": [
    "Exportieren zu einem Numpy Array"
   ]
  },
  {
   "cell_type": "code",
   "execution_count": 43,
   "id": "c352617f",
   "metadata": {},
   "outputs": [
    {
     "data": {
      "text/plain": [
       "array([ 1,  2,  3, ..., 29, 30, 31], dtype=int64)"
      ]
     },
     "execution_count": 43,
     "metadata": {},
     "output_type": "execute_result"
    }
   ],
   "source": [
    "np_rain_date=rain[\"Tage\"].to_numpy()\n",
    "np_rain_date"
   ]
  },
  {
   "cell_type": "code",
   "execution_count": 44,
   "id": "0bcce4fc",
   "metadata": {},
   "outputs": [
    {
     "data": {
      "text/plain": [
       "array([0.37, 1.37, 0.02, ..., 0.2 , 0.2 , 1.6 ])"
      ]
     },
     "execution_count": 44,
     "metadata": {},
     "output_type": "execute_result"
    }
   ],
   "source": [
    "np_rain=rain[\"Summe Niederschlag (l/m²)\"].to_numpy()\n",
    "np_rain"
   ]
  },
  {
   "cell_type": "code",
   "execution_count": 45,
   "id": "f67f793e",
   "metadata": {},
   "outputs": [
    {
     "data": {
      "text/plain": [
       "dtype('float64')"
      ]
     },
     "execution_count": 45,
     "metadata": {},
     "output_type": "execute_result"
    }
   ],
   "source": [
    "np_rain.dtype"
   ]
  },
  {
   "cell_type": "markdown",
   "id": "80b77ff2",
   "metadata": {},
   "source": [
    "Normalisieren des Datums und shuffeln"
   ]
  },
  {
   "cell_type": "code",
   "execution_count": 46,
   "id": "c637ce0e",
   "metadata": {},
   "outputs": [],
   "source": [
    "np_rain_date, np_rain = shuffle(np_rain_date, np_rain)"
   ]
  },
  {
   "cell_type": "code",
   "execution_count": 47,
   "id": "c51c2351",
   "metadata": {},
   "outputs": [
    {
     "data": {
      "text/plain": [
       "array([[0.26648352],\n",
       "       [0.43131868],\n",
       "       [0.57142857],\n",
       "       ...,\n",
       "       [0.80769231],\n",
       "       [0.35714286],\n",
       "       [0.77472527]])"
      ]
     },
     "execution_count": 47,
     "metadata": {},
     "output_type": "execute_result"
    }
   ],
   "source": [
    "scaler = MinMaxScaler(feature_range=(0,1))\n",
    "np_rain_date_scaled=scaler.fit_transform(np_rain_date.reshape(-1,1))\n",
    "np_rain_date_scaled"
   ]
  },
  {
   "cell_type": "code",
   "execution_count": 48,
   "id": "9116d6c2",
   "metadata": {},
   "outputs": [
    {
     "data": {
      "text/plain": [
       "array([0.  , 4.28, 4.67, ..., 0.27, 0.  , 2.14])"
      ]
     },
     "execution_count": 48,
     "metadata": {},
     "output_type": "execute_result"
    }
   ],
   "source": [
    "np_rain"
   ]
  },
  {
   "cell_type": "markdown",
   "id": "7c992e1d",
   "metadata": {},
   "source": [
    "Datensatz spliten um Trainings- und Testdaten zu generieren (90% Training, 10% Test)"
   ]
  },
  {
   "cell_type": "code",
   "execution_count": 49,
   "id": "2fe07502",
   "metadata": {},
   "outputs": [
    {
     "data": {
      "text/plain": [
       "6817"
      ]
     },
     "execution_count": 49,
     "metadata": {},
     "output_type": "execute_result"
    }
   ],
   "source": [
    "splitter=(np.round(np_rain.size*0.9)).astype(int)\n",
    "splitter"
   ]
  },
  {
   "cell_type": "code",
   "execution_count": 50,
   "id": "99b3e0d2",
   "metadata": {},
   "outputs": [],
   "source": [
    "rain_train=np_rain[:splitter]\n",
    "rain_test=np_rain[splitter:]\n",
    "rain_date_train=np_rain_date_scaled[:splitter]\n",
    "rain_date_test=np_rain_date_scaled[splitter:]"
   ]
  },
  {
   "cell_type": "markdown",
   "id": "1ba14ea9",
   "metadata": {},
   "source": [
    "# 4.2 Sequential Model bauen und trainieren"
   ]
  },
  {
   "cell_type": "code",
   "execution_count": 51,
   "id": "62c58821",
   "metadata": {},
   "outputs": [],
   "source": [
    "rain_model = Sequential([Dense(units=16, activation=\"relu\", input_shape=(1,)), \n",
    "                   Dense(units=32, activation=\"relu\"),\n",
    "                   Dense(units=1)])"
   ]
  },
  {
   "cell_type": "code",
   "execution_count": 52,
   "id": "392b86bb",
   "metadata": {},
   "outputs": [
    {
     "name": "stdout",
     "output_type": "stream",
     "text": [
      "Model: \"sequential_1\"\n",
      "_________________________________________________________________\n",
      "Layer (type)                 Output Shape              Param #   \n",
      "=================================================================\n",
      "dense_3 (Dense)              (None, 16)                32        \n",
      "_________________________________________________________________\n",
      "dense_4 (Dense)              (None, 32)                544       \n",
      "_________________________________________________________________\n",
      "dense_5 (Dense)              (None, 1)                 33        \n",
      "=================================================================\n",
      "Total params: 609\n",
      "Trainable params: 609\n",
      "Non-trainable params: 0\n",
      "_________________________________________________________________\n"
     ]
    }
   ],
   "source": [
    "rain_model.summary()"
   ]
  },
  {
   "cell_type": "code",
   "execution_count": 53,
   "id": "1509ee2f",
   "metadata": {},
   "outputs": [],
   "source": [
    "rain_model.compile(optimizer=Adam(learning_rate=0.0001), loss=\"mean_squared_error\", metrics=[keras.metrics.MeanAbsoluteError()])"
   ]
  },
  {
   "cell_type": "code",
   "execution_count": 54,
   "id": "d6b85350",
   "metadata": {},
   "outputs": [
    {
     "name": "stdout",
     "output_type": "stream",
     "text": [
      "Epoch 1/10\n",
      "237/237 [==============================] - 1s 3ms/step - loss: 73.6873 - mean_absolute_error: 5.5804\n",
      "Epoch 2/10\n",
      "237/237 [==============================] - 1s 3ms/step - loss: 12.2754 - mean_absolute_error: 1.8208\n",
      "Epoch 3/10\n",
      "237/237 [==============================] - 1s 3ms/step - loss: 12.2721 - mean_absolute_error: 1.8598\n",
      "Epoch 4/10\n",
      "237/237 [==============================] - 1s 3ms/step - loss: 12.2627 - mean_absolute_error: 1.8532\n",
      "Epoch 5/10\n",
      "237/237 [==============================] - 1s 3ms/step - loss: 12.2625 - mean_absolute_error: 1.8460\n",
      "Epoch 6/10\n",
      "237/237 [==============================] - 1s 3ms/step - loss: 12.2624 - mean_absolute_error: 1.8567\n",
      "Epoch 7/10\n",
      "237/237 [==============================] - 1s 3ms/step - loss: 12.2447 - mean_absolute_error: 1.8471\n",
      "Epoch 8/10\n",
      "237/237 [==============================] - 1s 4ms/step - loss: 12.2312 - mean_absolute_error: 1.8513\n",
      "Epoch 9/10\n",
      "237/237 [==============================] - 1s 3ms/step - loss: 12.2554 - mean_absolute_error: 1.8695\n",
      "Epoch 10/10\n",
      "237/237 [==============================] - 1s 3ms/step - loss: 12.2150 - mean_absolute_error: 1.8477\n"
     ]
    },
    {
     "data": {
      "text/plain": [
       "<keras.callbacks.History at 0x1bc72df09d0>"
      ]
     },
     "execution_count": 54,
     "metadata": {},
     "output_type": "execute_result"
    }
   ],
   "source": [
    "rain_model.fit(x=np_rain_date, y=np_rain, epochs=10)"
   ]
  },
  {
   "cell_type": "markdown",
   "id": "73ad64e7",
   "metadata": {},
   "source": [
    "## 4.3 Validierungsdatensatz testen und Werte einfügen"
   ]
  },
  {
   "cell_type": "markdown",
   "id": "86e6477b",
   "metadata": {},
   "source": [
    "Erste Probe Validierungssätze"
   ]
  },
  {
   "cell_type": "code",
   "execution_count": 55,
   "id": "07acc5e2",
   "metadata": {},
   "outputs": [
    {
     "name": "stdout",
     "output_type": "stream",
     "text": [
      "Epoch 1/30\n",
      "213/213 [==============================] - 1s 3ms/step - loss: 11.7832 - mean_absolute_error: 1.8642 - val_loss: 16.0020 - val_mean_absolute_error: 1.8527\n",
      "Epoch 2/30\n",
      "213/213 [==============================] - 1s 2ms/step - loss: 11.7762 - mean_absolute_error: 1.8533 - val_loss: 15.9860 - val_mean_absolute_error: 1.9321\n",
      "Epoch 3/30\n",
      "213/213 [==============================] - 1s 2ms/step - loss: 11.7554 - mean_absolute_error: 1.8544 - val_loss: 15.9706 - val_mean_absolute_error: 1.8981\n",
      "Epoch 4/30\n",
      "213/213 [==============================] - 0s 2ms/step - loss: 11.7615 - mean_absolute_error: 1.8575 - val_loss: 16.0578 - val_mean_absolute_error: 2.0664\n",
      "Epoch 5/30\n",
      "213/213 [==============================] - 1s 3ms/step - loss: 11.7353 - mean_absolute_error: 1.8650 - val_loss: 15.9639 - val_mean_absolute_error: 1.8440\n",
      "Epoch 6/30\n",
      "213/213 [==============================] - 1s 3ms/step - loss: 11.7299 - mean_absolute_error: 1.8590 - val_loss: 15.9373 - val_mean_absolute_error: 1.9276\n",
      "Epoch 7/30\n",
      "213/213 [==============================] - 1s 3ms/step - loss: 11.7354 - mean_absolute_error: 1.8614 - val_loss: 15.9377 - val_mean_absolute_error: 1.9685\n",
      "Epoch 8/30\n",
      "213/213 [==============================] - 1s 4ms/step - loss: 11.6866 - mean_absolute_error: 1.8690 - val_loss: 15.9133 - val_mean_absolute_error: 1.9162\n",
      "Epoch 9/30\n",
      "213/213 [==============================] - 1s 3ms/step - loss: 11.6955 - mean_absolute_error: 1.8624 - val_loss: 15.9033 - val_mean_absolute_error: 1.9333\n",
      "Epoch 10/30\n",
      "213/213 [==============================] - 1s 3ms/step - loss: 11.6918 - mean_absolute_error: 1.8739 - val_loss: 16.0195 - val_mean_absolute_error: 2.1035\n",
      "Epoch 11/30\n",
      "213/213 [==============================] - 1s 3ms/step - loss: 11.6796 - mean_absolute_error: 1.8769 - val_loss: 15.9406 - val_mean_absolute_error: 2.0452\n",
      "Epoch 12/30\n",
      "213/213 [==============================] - 1s 3ms/step - loss: 11.7016 - mean_absolute_error: 1.8802 - val_loss: 15.8972 - val_mean_absolute_error: 2.0038\n",
      "Epoch 13/30\n",
      "213/213 [==============================] - 1s 3ms/step - loss: 11.6617 - mean_absolute_error: 1.8901 - val_loss: 16.0384 - val_mean_absolute_error: 1.7287\n",
      "Epoch 14/30\n",
      "213/213 [==============================] - 1s 3ms/step - loss: 11.6407 - mean_absolute_error: 1.8788 - val_loss: 15.8598 - val_mean_absolute_error: 1.8862\n",
      "Epoch 15/30\n",
      "213/213 [==============================] - 1s 3ms/step - loss: 11.6223 - mean_absolute_error: 1.8845 - val_loss: 15.9448 - val_mean_absolute_error: 1.7794\n",
      "Epoch 16/30\n",
      "213/213 [==============================] - 1s 4ms/step - loss: 11.5832 - mean_absolute_error: 1.8814 - val_loss: 15.8898 - val_mean_absolute_error: 2.0612\n",
      "Epoch 17/30\n",
      "213/213 [==============================] - 1s 3ms/step - loss: 11.6004 - mean_absolute_error: 1.8983 - val_loss: 15.8529 - val_mean_absolute_error: 2.0274\n",
      "Epoch 18/30\n",
      "213/213 [==============================] - 1s 3ms/step - loss: 11.5717 - mean_absolute_error: 1.8910 - val_loss: 15.8878 - val_mean_absolute_error: 2.0798\n",
      "Epoch 19/30\n",
      "213/213 [==============================] - 1s 3ms/step - loss: 11.5913 - mean_absolute_error: 1.9011 - val_loss: 15.8350 - val_mean_absolute_error: 2.0263\n",
      "Epoch 20/30\n",
      "213/213 [==============================] - 1s 3ms/step - loss: 11.5858 - mean_absolute_error: 1.9044 - val_loss: 15.8181 - val_mean_absolute_error: 1.8851\n",
      "Epoch 21/30\n",
      "213/213 [==============================] - 1s 3ms/step - loss: 11.5665 - mean_absolute_error: 1.9012 - val_loss: 15.8009 - val_mean_absolute_error: 1.9205\n",
      "Epoch 22/30\n",
      "213/213 [==============================] - 1s 3ms/step - loss: 11.5586 - mean_absolute_error: 1.9030 - val_loss: 15.7970 - val_mean_absolute_error: 1.9828\n",
      "Epoch 23/30\n",
      "213/213 [==============================] - 1s 3ms/step - loss: 11.5826 - mean_absolute_error: 1.9135 - val_loss: 15.8000 - val_mean_absolute_error: 1.9006\n",
      "Epoch 24/30\n",
      "213/213 [==============================] - 1s 3ms/step - loss: 11.5643 - mean_absolute_error: 1.9101 - val_loss: 15.7916 - val_mean_absolute_error: 1.9141\n",
      "Epoch 25/30\n",
      "213/213 [==============================] - 1s 3ms/step - loss: 11.5412 - mean_absolute_error: 1.9146 - val_loss: 15.7835 - val_mean_absolute_error: 1.9331\n",
      "Epoch 26/30\n",
      "213/213 [==============================] - 1s 3ms/step - loss: 11.5279 - mean_absolute_error: 1.9189 - val_loss: 15.7799 - val_mean_absolute_error: 1.9829\n",
      "Epoch 27/30\n",
      "213/213 [==============================] - 1s 3ms/step - loss: 11.5645 - mean_absolute_error: 1.9204 - val_loss: 15.7855 - val_mean_absolute_error: 1.9221\n",
      "Epoch 28/30\n",
      "213/213 [==============================] - 1s 2ms/step - loss: 11.5401 - mean_absolute_error: 1.9168 - val_loss: 15.8354 - val_mean_absolute_error: 1.8437\n",
      "Epoch 29/30\n",
      "213/213 [==============================] - 1s 3ms/step - loss: 11.5660 - mean_absolute_error: 1.9262 - val_loss: 15.8100 - val_mean_absolute_error: 2.0689\n",
      "Epoch 30/30\n",
      "213/213 [==============================] - 1s 3ms/step - loss: 11.5218 - mean_absolute_error: 1.9246 - val_loss: 15.8636 - val_mean_absolute_error: 1.8212\n"
     ]
    },
    {
     "data": {
      "text/plain": [
       "<keras.callbacks.History at 0x1bcfa38a6a0>"
      ]
     },
     "execution_count": 55,
     "metadata": {},
     "output_type": "execute_result"
    }
   ],
   "source": [
    "rain_model.fit(x=np_rain_date, y=np_rain, validation_split=0.1, epochs=30)"
   ]
  },
  {
   "cell_type": "markdown",
   "id": "1a41a732",
   "metadata": {},
   "source": [
    "# 5. Als TensorFlow.js exportieren"
   ]
  },
  {
   "cell_type": "code",
   "execution_count": 29,
   "id": "f1668445",
   "metadata": {},
   "outputs": [],
   "source": [
    "import tensorflowjs as tfjs"
   ]
  },
  {
   "cell_type": "code",
   "execution_count": 113,
   "id": "de316cde",
   "metadata": {},
   "outputs": [],
   "source": [
    "tfjs.converters.save_keras_model(temp_model,'tensorflowjs')"
   ]
  },
  {
   "cell_type": "code",
   "execution_count": 128,
   "id": "ee80b6d2",
   "metadata": {},
   "outputs": [],
   "source": [
    "tfjs.converters.save_keras_model(rain_model,'tensorflowjs')"
   ]
  },
  {
   "cell_type": "markdown",
   "id": "4cbcaa2f",
   "metadata": {},
   "source": [
    "# 6. Recurrent Neural Networks (als Test)\n"
   ]
  },
  {
   "cell_type": "markdown",
   "id": "3095ddf4",
   "metadata": {},
   "source": [
    "https://www.tensorflow.org/tutorials/structured_data/time_series"
   ]
  },
  {
   "cell_type": "markdown",
   "id": "7bc29127",
   "metadata": {},
   "source": [
    "Training mit rekurrenten neuralen Netzen (RNN's), LTSM (Long short-term memory) sehr beliebt innerhalb von RNNs"
   ]
  },
  {
   "cell_type": "markdown",
   "id": "1fa6ba68",
   "metadata": {},
   "source": [
    "https://www.ibm.com/cloud/learn/recurrent-neural-networks"
   ]
  },
  {
   "cell_type": "markdown",
   "id": "39f56909",
   "metadata": {},
   "source": [
    "![alt text](rnn.png \"Title\")"
   ]
  },
  {
   "cell_type": "markdown",
   "id": "8453948d",
   "metadata": {},
   "source": [
    "![alt text](rnn_test.png \"Title\")"
   ]
  },
  {
   "cell_type": "code",
   "execution_count": 26,
   "id": "40591e12",
   "metadata": {},
   "outputs": [
    {
     "data": {
      "text/html": [
       "<div>\n",
       "<style scoped>\n",
       "    .dataframe tbody tr th:only-of-type {\n",
       "        vertical-align: middle;\n",
       "    }\n",
       "\n",
       "    .dataframe tbody tr th {\n",
       "        vertical-align: top;\n",
       "    }\n",
       "\n",
       "    .dataframe thead th {\n",
       "        text-align: right;\n",
       "    }\n",
       "</style>\n",
       "<table border=\"1\" class=\"dataframe\">\n",
       "  <thead>\n",
       "    <tr style=\"text-align: right;\">\n",
       "      <th></th>\n",
       "      <th>Datum</th>\n",
       "      <th>Mittel Temp. (°C)</th>\n",
       "    </tr>\n",
       "  </thead>\n",
       "  <tbody>\n",
       "    <tr>\n",
       "      <th>0</th>\n",
       "      <td>01.01.2001</td>\n",
       "      <td>2.2</td>\n",
       "    </tr>\n",
       "    <tr>\n",
       "      <th>1</th>\n",
       "      <td>02.01.2001</td>\n",
       "      <td>7.1</td>\n",
       "    </tr>\n",
       "    <tr>\n",
       "      <th>2</th>\n",
       "      <td>03.01.2001</td>\n",
       "      <td>6.8</td>\n",
       "    </tr>\n",
       "    <tr>\n",
       "      <th>3</th>\n",
       "      <td>04.01.2001</td>\n",
       "      <td>6.2</td>\n",
       "    </tr>\n",
       "    <tr>\n",
       "      <th>4</th>\n",
       "      <td>05.01.2001</td>\n",
       "      <td>8.7</td>\n",
       "    </tr>\n",
       "  </tbody>\n",
       "</table>\n",
       "</div>"
      ],
      "text/plain": [
       "        Datum  Mittel Temp. (°C)\n",
       "0  01.01.2001                2.2\n",
       "1  02.01.2001                7.1\n",
       "2  03.01.2001                6.8\n",
       "3  04.01.2001                6.2\n",
       "4  05.01.2001                8.7"
      ]
     },
     "execution_count": 26,
     "metadata": {},
     "output_type": "execute_result"
    }
   ],
   "source": [
    "rnn_data = data[[\"Datum\",\"Mittel Temp. (°C)\"]]\n",
    "rnn_data.head()"
   ]
  },
  {
   "cell_type": "code",
   "execution_count": 30,
   "id": "18a7d8b1",
   "metadata": {},
   "outputs": [
    {
     "data": {
      "text/plain": [
       "[<matplotlib.lines.Line2D at 0x21971fb0d90>]"
      ]
     },
     "execution_count": 30,
     "metadata": {},
     "output_type": "execute_result"
    },
    {
     "data": {
      "image/png": "[encoded data removed]",
      "text/plain": [
       "<Figure size 432x288 with 1 Axes>"
      ]
     },
     "metadata": {
      "needs_background": "light"
     },
     "output_type": "display_data"
    }
   ],
   "source": [
    "plt.plot(rnn_data['Datum'],rnn_data['Mittel Temp. (°C)'])"
   ]
  },
  {
   "cell_type": "markdown",
   "id": "e477bc72",
   "metadata": {},
   "source": [
    "Überprüfen ob es fehlende Daten gibt"
   ]
  },
  {
   "cell_type": "code",
   "execution_count": 31,
   "id": "37908816",
   "metadata": {},
   "outputs": [
    {
     "data": {
      "text/plain": [
       "124"
      ]
     },
     "execution_count": 31,
     "metadata": {},
     "output_type": "execute_result"
    }
   ],
   "source": [
    "rnn_data.isna().sum().sum()"
   ]
  },
  {
   "cell_type": "code",
   "execution_count": 32,
   "id": "5c944ec8",
   "metadata": {},
   "outputs": [
    {
     "data": {
      "text/html": [
       "<div>\n",
       "<style scoped>\n",
       "    .dataframe tbody tr th:only-of-type {\n",
       "        vertical-align: middle;\n",
       "    }\n",
       "\n",
       "    .dataframe tbody tr th {\n",
       "        vertical-align: top;\n",
       "    }\n",
       "\n",
       "    .dataframe thead th {\n",
       "        text-align: right;\n",
       "    }\n",
       "</style>\n",
       "<table border=\"1\" class=\"dataframe\">\n",
       "  <thead>\n",
       "    <tr style=\"text-align: right;\">\n",
       "      <th></th>\n",
       "      <th>Datum</th>\n",
       "      <th>Mittel Temp. (°C)</th>\n",
       "    </tr>\n",
       "  </thead>\n",
       "  <tbody>\n",
       "    <tr>\n",
       "      <th>0</th>\n",
       "      <td>01.01.2001</td>\n",
       "      <td>2.2</td>\n",
       "    </tr>\n",
       "    <tr>\n",
       "      <th>1</th>\n",
       "      <td>02.01.2001</td>\n",
       "      <td>7.1</td>\n",
       "    </tr>\n",
       "    <tr>\n",
       "      <th>2</th>\n",
       "      <td>03.01.2001</td>\n",
       "      <td>6.8</td>\n",
       "    </tr>\n",
       "    <tr>\n",
       "      <th>3</th>\n",
       "      <td>04.01.2001</td>\n",
       "      <td>6.2</td>\n",
       "    </tr>\n",
       "    <tr>\n",
       "      <th>4</th>\n",
       "      <td>05.01.2001</td>\n",
       "      <td>8.7</td>\n",
       "    </tr>\n",
       "    <tr>\n",
       "      <th>...</th>\n",
       "      <td>...</td>\n",
       "      <td>...</td>\n",
       "    </tr>\n",
       "    <tr>\n",
       "      <th>7691</th>\n",
       "      <td>27.01.2022</td>\n",
       "      <td>2.0</td>\n",
       "    </tr>\n",
       "    <tr>\n",
       "      <th>7692</th>\n",
       "      <td>28.01.2022</td>\n",
       "      <td>4.8</td>\n",
       "    </tr>\n",
       "    <tr>\n",
       "      <th>7693</th>\n",
       "      <td>29.01.2022</td>\n",
       "      <td>5.3</td>\n",
       "    </tr>\n",
       "    <tr>\n",
       "      <th>7694</th>\n",
       "      <td>30.01.2022</td>\n",
       "      <td>6.0</td>\n",
       "    </tr>\n",
       "    <tr>\n",
       "      <th>7695</th>\n",
       "      <td>31.01.2022</td>\n",
       "      <td>4.2</td>\n",
       "    </tr>\n",
       "  </tbody>\n",
       "</table>\n",
       "<p>7572 rows × 2 columns</p>\n",
       "</div>"
      ],
      "text/plain": [
       "           Datum  Mittel Temp. (°C)\n",
       "0     01.01.2001                2.2\n",
       "1     02.01.2001                7.1\n",
       "2     03.01.2001                6.8\n",
       "3     04.01.2001                6.2\n",
       "4     05.01.2001                8.7\n",
       "...          ...                ...\n",
       "7691  27.01.2022                2.0\n",
       "7692  28.01.2022                4.8\n",
       "7693  29.01.2022                5.3\n",
       "7694  30.01.2022                6.0\n",
       "7695  31.01.2022                4.2\n",
       "\n",
       "[7572 rows x 2 columns]"
      ]
     },
     "execution_count": 32,
     "metadata": {},
     "output_type": "execute_result"
    }
   ],
   "source": [
    "rnn_data = rnn_data.dropna()\n",
    "rnn_data.isna().sum().sum()\n",
    "rnn_data"
   ]
  },
  {
   "cell_type": "markdown",
   "id": "149c879c",
   "metadata": {},
   "source": [
    "Aufteilen in Taining und Test"
   ]
  },
  {
   "cell_type": "code",
   "execution_count": 33,
   "id": "497d1707",
   "metadata": {},
   "outputs": [
    {
     "data": {
      "text/plain": [
       "6815"
      ]
     },
     "execution_count": 33,
     "metadata": {},
     "output_type": "execute_result"
    }
   ],
   "source": [
    "r_splitter=(np.round(rnn_data[['Mittel Temp. (°C)']].size*0.9)).astype(int)\n",
    "r_splitter\n"
   ]
  },
  {
   "cell_type": "code",
   "execution_count": 34,
   "id": "45f67e97",
   "metadata": {},
   "outputs": [
    {
     "data": {
      "text/html": [
       "<div>\n",
       "<style scoped>\n",
       "    .dataframe tbody tr th:only-of-type {\n",
       "        vertical-align: middle;\n",
       "    }\n",
       "\n",
       "    .dataframe tbody tr th {\n",
       "        vertical-align: top;\n",
       "    }\n",
       "\n",
       "    .dataframe thead th {\n",
       "        text-align: right;\n",
       "    }\n",
       "</style>\n",
       "<table border=\"1\" class=\"dataframe\">\n",
       "  <thead>\n",
       "    <tr style=\"text-align: right;\">\n",
       "      <th></th>\n",
       "      <th>Mittel Temp. (°C)</th>\n",
       "    </tr>\n",
       "  </thead>\n",
       "  <tbody>\n",
       "    <tr>\n",
       "      <th>0</th>\n",
       "      <td>2.2</td>\n",
       "    </tr>\n",
       "    <tr>\n",
       "      <th>1</th>\n",
       "      <td>7.1</td>\n",
       "    </tr>\n",
       "    <tr>\n",
       "      <th>2</th>\n",
       "      <td>6.8</td>\n",
       "    </tr>\n",
       "    <tr>\n",
       "      <th>3</th>\n",
       "      <td>6.2</td>\n",
       "    </tr>\n",
       "    <tr>\n",
       "      <th>4</th>\n",
       "      <td>8.7</td>\n",
       "    </tr>\n",
       "    <tr>\n",
       "      <th>...</th>\n",
       "      <td>...</td>\n",
       "    </tr>\n",
       "    <tr>\n",
       "      <th>6934</th>\n",
       "      <td>2.8</td>\n",
       "    </tr>\n",
       "    <tr>\n",
       "      <th>6935</th>\n",
       "      <td>2.9</td>\n",
       "    </tr>\n",
       "    <tr>\n",
       "      <th>6936</th>\n",
       "      <td>1.1</td>\n",
       "    </tr>\n",
       "    <tr>\n",
       "      <th>6937</th>\n",
       "      <td>6.6</td>\n",
       "    </tr>\n",
       "    <tr>\n",
       "      <th>6938</th>\n",
       "      <td>6.1</td>\n",
       "    </tr>\n",
       "  </tbody>\n",
       "</table>\n",
       "<p>6815 rows × 1 columns</p>\n",
       "</div>"
      ],
      "text/plain": [
       "      Mittel Temp. (°C)\n",
       "0                   2.2\n",
       "1                   7.1\n",
       "2                   6.8\n",
       "3                   6.2\n",
       "4                   8.7\n",
       "...                 ...\n",
       "6934                2.8\n",
       "6935                2.9\n",
       "6936                1.1\n",
       "6937                6.6\n",
       "6938                6.1\n",
       "\n",
       "[6815 rows x 1 columns]"
      ]
     },
     "execution_count": 34,
     "metadata": {},
     "output_type": "execute_result"
    }
   ],
   "source": [
    "rnn_train=rnn_data[['Mittel Temp. (°C)']][:r_splitter]\n",
    "rnn_train"
   ]
  },
  {
   "cell_type": "code",
   "execution_count": 35,
   "id": "ab71a968",
   "metadata": {},
   "outputs": [
    {
     "data": {
      "text/html": [
       "<div>\n",
       "<style scoped>\n",
       "    .dataframe tbody tr th:only-of-type {\n",
       "        vertical-align: middle;\n",
       "    }\n",
       "\n",
       "    .dataframe tbody tr th {\n",
       "        vertical-align: top;\n",
       "    }\n",
       "\n",
       "    .dataframe thead th {\n",
       "        text-align: right;\n",
       "    }\n",
       "</style>\n",
       "<table border=\"1\" class=\"dataframe\">\n",
       "  <thead>\n",
       "    <tr style=\"text-align: right;\">\n",
       "      <th></th>\n",
       "      <th>Mittel Temp. (°C)</th>\n",
       "    </tr>\n",
       "  </thead>\n",
       "  <tbody>\n",
       "    <tr>\n",
       "      <th>6939</th>\n",
       "      <td>5.5</td>\n",
       "    </tr>\n",
       "    <tr>\n",
       "      <th>6940</th>\n",
       "      <td>2.6</td>\n",
       "    </tr>\n",
       "    <tr>\n",
       "      <th>6941</th>\n",
       "      <td>4.9</td>\n",
       "    </tr>\n",
       "    <tr>\n",
       "      <th>6942</th>\n",
       "      <td>5.7</td>\n",
       "    </tr>\n",
       "    <tr>\n",
       "      <th>6943</th>\n",
       "      <td>11.7</td>\n",
       "    </tr>\n",
       "    <tr>\n",
       "      <th>...</th>\n",
       "      <td>...</td>\n",
       "    </tr>\n",
       "    <tr>\n",
       "      <th>7691</th>\n",
       "      <td>2.0</td>\n",
       "    </tr>\n",
       "    <tr>\n",
       "      <th>7692</th>\n",
       "      <td>4.8</td>\n",
       "    </tr>\n",
       "    <tr>\n",
       "      <th>7693</th>\n",
       "      <td>5.3</td>\n",
       "    </tr>\n",
       "    <tr>\n",
       "      <th>7694</th>\n",
       "      <td>6.0</td>\n",
       "    </tr>\n",
       "    <tr>\n",
       "      <th>7695</th>\n",
       "      <td>4.2</td>\n",
       "    </tr>\n",
       "  </tbody>\n",
       "</table>\n",
       "<p>757 rows × 1 columns</p>\n",
       "</div>"
      ],
      "text/plain": [
       "      Mittel Temp. (°C)\n",
       "6939                5.5\n",
       "6940                2.6\n",
       "6941                4.9\n",
       "6942                5.7\n",
       "6943               11.7\n",
       "...                 ...\n",
       "7691                2.0\n",
       "7692                4.8\n",
       "7693                5.3\n",
       "7694                6.0\n",
       "7695                4.2\n",
       "\n",
       "[757 rows x 1 columns]"
      ]
     },
     "execution_count": 35,
     "metadata": {},
     "output_type": "execute_result"
    }
   ],
   "source": [
    "rnn_test=rnn_data[['Mittel Temp. (°C)']][r_splitter:]\n",
    "rnn_test"
   ]
  },
  {
   "cell_type": "code",
   "execution_count": 36,
   "id": "e913f94e",
   "metadata": {},
   "outputs": [],
   "source": [
    "scaler=MinMaxScaler(feature_range=(0,1))"
   ]
  },
  {
   "cell_type": "code",
   "execution_count": 37,
   "id": "8a1a0b0e",
   "metadata": {},
   "outputs": [],
   "source": [
    "rnn_train_scaled=scaler.fit_transform(rnn_train)"
   ]
  },
  {
   "cell_type": "code",
   "execution_count": 38,
   "id": "789ec40a",
   "metadata": {},
   "outputs": [],
   "source": [
    "rnn_test_scaled=scaler.fit_transform(rnn_test)"
   ]
  },
  {
   "cell_type": "code",
   "execution_count": 39,
   "id": "a99e1d56",
   "metadata": {},
   "outputs": [
    {
     "data": {
      "text/plain": [
       "array([[0.31701632],\n",
       "       [0.43123543],\n",
       "       [0.42424242],\n",
       "       ...,\n",
       "       [0.29137529],\n",
       "       [0.41958042],\n",
       "       [0.40792541]])"
      ]
     },
     "execution_count": 39,
     "metadata": {},
     "output_type": "execute_result"
    }
   ],
   "source": [
    "rnn_train_scaled"
   ]
  },
  {
   "cell_type": "code",
   "execution_count": 23,
   "id": "ea13efdd",
   "metadata": {},
   "outputs": [],
   "source": [
    "from keras.preprocessing.sequence import TimeseriesGenerator"
   ]
  },
  {
   "cell_type": "markdown",
   "id": "fb6520f8",
   "metadata": {},
   "source": [
    "Time Serier Generator wird definiert"
   ]
  },
  {
   "cell_type": "code",
   "execution_count": null,
   "id": "d9763c8b",
   "metadata": {},
   "outputs": [],
   "source": [
    "generator = TimeseriesGenerator (rnn_train_scaled, rnn_train_scaled, length=12, batch_size=1)"
   ]
  },
  {
   "cell_type": "markdown",
   "id": "d8ecf88c",
   "metadata": {},
   "source": [
    "Hier sieht man die Idee: aus 12 Inputs wird ein Output geplottet usw."
   ]
  },
  {
   "cell_type": "code",
   "execution_count": 25,
   "id": "716b3721",
   "metadata": {},
   "outputs": [
    {
     "name": "stdout",
     "output_type": "stream",
     "text": [
      "X Array: \n",
      "[0.31701632 0.43123543 0.42424242 0.41025641 0.46853147 0.47319347\n",
      " 0.4032634  0.37762238 0.34965035 0.36829837 0.41724942 0.31235431]\n",
      "Y Array: \n",
      "[[0.26340326]]\n"
     ]
    }
   ],
   "source": [
    "X,y = generator[0]\n",
    "print(f'X Array: \\n{X.flatten()}')\n",
    "print(f'Y Array: \\n{y}')"
   ]
  },
  {
   "cell_type": "code",
   "execution_count": 26,
   "id": "84264512",
   "metadata": {},
   "outputs": [],
   "source": [
    "from keras.layers import LSTM"
   ]
  },
  {
   "cell_type": "code",
   "execution_count": 46,
   "id": "43b0ba73",
   "metadata": {},
   "outputs": [
    {
     "name": "stdout",
     "output_type": "stream",
     "text": [
      "WARNING:tensorflow:Layer lstm_1 will not use cuDNN kernels since it doesn't meet the criteria. It will use a generic GPU kernel as fallback when running on GPU.\n"
     ]
    }
   ],
   "source": [
    "rnn_model = Sequential([LSTM(units=40, activation=\"relu\", input_shape=(12,1)), \n",
    "                   Dense(units=1)])"
   ]
  },
  {
   "cell_type": "code",
   "execution_count": 47,
   "id": "a1c12d52",
   "metadata": {},
   "outputs": [],
   "source": [
    "rnn_model.compile(optimizer='adam', loss='mse')"
   ]
  },
  {
   "cell_type": "code",
   "execution_count": 48,
   "id": "830693b7",
   "metadata": {},
   "outputs": [
    {
     "name": "stdout",
     "output_type": "stream",
     "text": [
      "Model: \"sequential_1\"\n",
      "_________________________________________________________________\n",
      "Layer (type)                 Output Shape              Param #   \n",
      "=================================================================\n",
      "lstm_1 (LSTM)                (None, 40)                6720      \n",
      "_________________________________________________________________\n",
      "dense_1 (Dense)              (None, 1)                 41        \n",
      "=================================================================\n",
      "Total params: 6,761\n",
      "Trainable params: 6,761\n",
      "Non-trainable params: 0\n",
      "_________________________________________________________________\n"
     ]
    }
   ],
   "source": [
    "rnn_model.summary()"
   ]
  },
  {
   "cell_type": "code",
   "execution_count": 49,
   "id": "840ae233",
   "metadata": {
    "scrolled": false
   },
   "outputs": [
    {
     "name": "stdout",
     "output_type": "stream",
     "text": [
      "Epoch 1/10\n",
      "6803/6803 [==============================] - 258s 38ms/step - loss: 0.0049\n",
      "Epoch 2/10\n",
      "6803/6803 [==============================] - 255s 37ms/step - loss: 0.0028\n",
      "Epoch 3/10\n",
      "6803/6803 [==============================] - 254s 37ms/step - loss: 0.0027\n",
      "Epoch 4/10\n",
      "6803/6803 [==============================] - 254s 37ms/step - loss: 0.0026\n",
      "Epoch 5/10\n",
      "6803/6803 [==============================] - 255s 37ms/step - loss: 0.0026\n",
      "Epoch 6/10\n",
      "6803/6803 [==============================] - 268s 39ms/step - loss: 0.0026\n",
      "Epoch 7/10\n",
      "6803/6803 [==============================] - 262s 39ms/step - loss: 0.0026\n",
      "Epoch 8/10\n",
      "6803/6803 [==============================] - 261s 38ms/step - loss: 0.0025\n",
      "Epoch 9/10\n",
      "6803/6803 [==============================] - 252s 37ms/step - loss: 0.0025\n",
      "Epoch 10/10\n",
      "6803/6803 [==============================] - 250s 37ms/step - loss: 0.0025\n"
     ]
    },
    {
     "data": {
      "text/plain": [
       "<keras.callbacks.History at 0x14c9a6d1880>"
      ]
     },
     "execution_count": 49,
     "metadata": {},
     "output_type": "execute_result"
    }
   ],
   "source": [
    "rnn_model.fit(generator,epochs=10)"
   ]
  },
  {
   "cell_type": "markdown",
   "id": "91a69ccd",
   "metadata": {},
   "source": [
    "Predictions werden gemacht (Prediction aus erstem Input wird wieder für neues Input benutzt) \n",
    "\n",
    "Die letzten 12 Tage aus dem Trainigsset werden genutzt"
   ]
  },
  {
   "cell_type": "code",
   "execution_count": 50,
   "id": "32ad1a8e",
   "metadata": {},
   "outputs": [],
   "source": [
    "last_train_batch = rnn_train_scaled[-12:]"
   ]
  },
  {
   "cell_type": "code",
   "execution_count": 51,
   "id": "a29e7abb",
   "metadata": {},
   "outputs": [],
   "source": [
    "last_train_batch = last_train_batch.reshape((1, 12, 1))"
   ]
  },
  {
   "cell_type": "code",
   "execution_count": 52,
   "id": "fe20858c",
   "metadata": {},
   "outputs": [
    {
     "data": {
      "text/plain": [
       "array([[0.38143945]], dtype=float32)"
      ]
     },
     "execution_count": 52,
     "metadata": {},
     "output_type": "execute_result"
    }
   ],
   "source": [
    "rnn_model.predict(last_train_batch)"
   ]
  },
  {
   "cell_type": "markdown",
   "id": "b948b304",
   "metadata": {},
   "source": [
    "Vergleich mit richtiger Value"
   ]
  },
  {
   "cell_type": "code",
   "execution_count": 40,
   "id": "8a4b3dcb",
   "metadata": {},
   "outputs": [
    {
     "data": {
      "text/plain": [
       "array([0.32361516])"
      ]
     },
     "execution_count": 40,
     "metadata": {},
     "output_type": "execute_result"
    }
   ],
   "source": [
    "rnn_test_scaled[0]"
   ]
  },
  {
   "cell_type": "markdown",
   "id": "5c2cd91b",
   "metadata": {},
   "source": [
    "## -> Ziel: Weiterarbeit mit RNNs, effektiver aber komplexer"
   ]
  }
 ],
 "metadata": {
  "kernelspec": {
   "display_name": "Python [conda env:tf-2.0]",
   "language": "python",
   "name": "conda-env-tf-2.0-py"
  },
  "language_info": {
   "codemirror_mode": {
    "name": "ipython",
    "version": 3
   },
   "file_extension": ".py",
   "mimetype": "text/x-python",
   "name": "python",
   "nbconvert_exporter": "python",
   "pygments_lexer": "ipython3",
   "version": "3.9.7"
  }
 },
 "nbformat": 4,
 "nbformat_minor": 5
}
